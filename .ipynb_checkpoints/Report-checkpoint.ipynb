{
 "cells": [
  {
   "cell_type": "markdown",
   "metadata": {},
   "source": [
    "  # Report : "
   ]
  },
  {
   "cell_type": "markdown",
   "metadata": {},
   "source": [
    "                                           Promotional Strategy for A Video Game store\n",
    "\n",
    "                                                 \n",
    "                                                 \n",
    "                                                 Danial Monachan August 21, 2020\n",
    "\n",
    "\n",
    "  ### 1.\tIntroduction\n",
    "\n",
    " #### 1.1\tBackground\n",
    "\n",
    "   For this project, the plan is to Build an efficient way for Video Game Store Owners to reach out to the crowd to enhance   their Business. There are many numbers of games which are being released and to reach out to the public with a good plan can help in earning a good profit for the Video game Owners. It can be very time Consuming fact to reach the Target Audience. And to make that happen the Owner of the store has to find a community to take the news to. To this Problem a suggested solution is to taret the people at those places where the frequency of visits are more. That will Help the Owner to Promote his Store and could easily attract the crowd.\n",
    "\n",
    "  #### 1.2\tProblem\n",
    "\n",
    "  The Video Game Stores are very limited in the city of Toronto. Hence, To Optimise the sales there are very limiting ways to reach out to the Public. So, The Idea is to Increase the sales of The store By attracting the customers.\n",
    "  The audience Have to be picked cleverly so that the sales can be done by Limiting the travel Cost which may come at the time of the campaign.\n",
    "\n",
    "  #### 1.3\tTarget Audience\n",
    "    \n",
    "   The Target audience are anyone who likes to play video games. Be it a kid or an adult. The idea is to reach out to them in a way where we can easily promote the idea.Hence, finding of frequently visited areas are necessaary to be addressed so that we can be able to reach out Properly.\n",
    "\n",
    "\n",
    " ### 2.\tData acquisition and cleaning\n",
    "\n",
    "  #### 2.1\tData sources\n",
    "\n",
    "   The data used was used from here:  https://en.wikipedia.org/wiki/List_of_postal_codes_of_Canada:_M\n",
    "   \n",
    "   This dataset consists of latitude and longitude, Postal codes. The data was present in a tabular format which was cleaned later.\n",
    "   \n",
    "   \n",
    " #### 2.2\tData cleaning\n",
    "\n",
    "   The content extraction was  done using the foursquare API along with the help of MS Excel  geoCode,For Scrapping the Web Table. Their are also 'n' number of ways to Scrap the data from the web and the ones mentioned above are not always dynamically used. Automation of the Web Scrapping can be achieved through Python too.\n",
    "\n",
    "### 3.\tExploratory Data Analysis\n",
    "\n",
    "#### 3.1\tCalculation of target variable\n",
    "  \n",
    "   1.Get the list of neighbourhoods in Toronto, Canada by extracting the list of neighbourhoods from Wikipedia page. Web  scraping using Excel is used to get tabular information from a webpage to data Frame.\n",
    "   2.Then foursquare API is used to get the list of venues near these neighbourhoods.    3.\tThe Excel file is used to match the coordinates of the neighbourhoods.\n",
    "   4.To confirm if the coordinates are correct, visualization is done using folium.\n",
    "   5.Next is pulling the top 100 venues within a radius of 500 meters.\n",
    "   6.The data that is extracted is name, venue, latitude and longitude.\n",
    "   7.Then each neighbourhood is analyzed by checked for the frequency of occurrences of each venue category.\n",
    "   8.Video Games stores are looked up.\n",
    "   9.They are transferred to a Data Frame.\n",
    "  10.K-means clustering is performed.\n",
    "  11.3 clusters are obtained and the best one is selected.\n"
   ]
  },
  {
   "cell_type": "markdown",
   "metadata": {},
   "source": [
    "\n",
    "#### 4.\tResults"
   ]
  },
  {
   "cell_type": "markdown",
   "metadata": {},
   "source": [
    "![title](image.png)"
   ]
  },
  {
   "cell_type": "markdown",
   "metadata": {},
   "source": [
    "3 clusters were generated:\n",
    "    •\tCluster 0: RED COLORED\n",
    "    •\tCluster 1: PURPLE COLORED\n",
    "    •\tCluster 2: GREENISH BLUE\n",
    "\n",
    "\n",
    "#### 5.\tConclusions\n",
    "\n",
    "  Hence, the project on extracting and using data in the efficient decision making for a business problem which was to prepare a promotional strategy for a Video Game Store with the help of k-means clustering has been successfully completed.\n",
    "\n",
    "\n",
    "\n",
    "#### 6.\tDiscussion\n",
    "\n",
    "  •\tMost of Game Stores are in Cluster 0, hence better chance of reaching the Promotional Criteria which is around Queens, St Patrick’s and Queen’s Park. Neighbourhoods with most Common Venues are grouped together the best area for Promotional Advertisements \n",
    "  \n",
    "  •The lowest stores in Cluster 1 on Dundas Street West. Neighbourhoods with NO much scope for Promotional Events but can be improved since they are near to Cluster 0.\n",
    "  \n",
    "  •In Cluster 2 the Neighbourhoods are relatively far and can only have minimal Exposure to promotional Advertisements.\n",
    "  \n",
    "  •Therefore, through the above analysis, the Promotional Events can attract more customers in Cluster 0 \n",
    "\n"
   ]
  },
  {
   "cell_type": "code",
   "execution_count": null,
   "metadata": {},
   "outputs": [],
   "source": []
  }
 ],
 "metadata": {
  "kernelspec": {
   "display_name": "Python 3",
   "language": "python",
   "name": "python3"
  },
  "language_info": {
   "codemirror_mode": {
    "name": "ipython",
    "version": 3
   },
   "file_extension": ".py",
   "mimetype": "text/x-python",
   "name": "python",
   "nbconvert_exporter": "python",
   "pygments_lexer": "ipython3",
   "version": "3.8.3"
  }
 },
 "nbformat": 4,
 "nbformat_minor": 4
}
